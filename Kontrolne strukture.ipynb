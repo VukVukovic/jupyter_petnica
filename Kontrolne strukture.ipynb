{
 "cells": [
  {
   "cell_type": "markdown",
   "metadata": {},
   "source": [
    "### Istraživačka stanica Petnica\n",
    "# Kontrolne strukture\n",
    "### Vuk Vuković, Andrej Jakovljević\n",
    "### 12.05.2018. "
   ]
  },
  {
   "cell_type": "markdown",
   "metadata": {},
   "source": [
    "### Čemu služe kontrolne strukture?\n",
    "<ul>\n",
    "    <li>Kontrolišu tok programa</li>\n",
    "    <li>Omogućavaju da se određeni delovi koda izvrše samo ukoliko je uslov ispunjen</li>\n",
    "    <li>Selekcija jednog od više mogućih ishoda</li>\n",
    "    <li>Omogućavaju ponavljanje instrukcija (određeni broj puta ili dok je uslov ispunjen)</li>\n",
    "</ul>"
   ]
  },
  {
   "cell_type": "markdown",
   "metadata": {},
   "source": [
    "### Uslovna grananja (if-else)\n",
    "<ul>\n",
    "    <li>Izvršavanje određenog koda ukoliko je uslov ispunjen</li>\n",
    "    <li>if <b>uslov1</b>:\n",
    "        <div style=\"text-indent: 30px\">kod1</div>\n",
    "        elif <b>uslov2</b>:\n",
    "        <div style=\"text-indent: 30px\">kod2</div>\n",
    "        else:\n",
    "        <div style=\"text-indent: 30px\">kod3</div>\n",
    "    </li>\n",
    "    <li>Uslovi su <b>tipa bool</b></li>\n",
    "    <li>Svaka linija koda u okviru if, elif i else grane mora biti uvučen za jednak broj razmaka ili tabova</li>\n",
    "    <li>Elif i else nisu obavezni</li>\n",
    "</ul>"
   ]
  },
  {
   "cell_type": "code",
   "execution_count": 8,
   "metadata": {},
   "outputs": [
    {
     "name": "stdout",
     "output_type": "stream",
     "text": [
      "A = 3\n",
      "B = 1\n",
      "x = -0.33\n"
     ]
    }
   ],
   "source": [
    "# Rešiti jednačinu Ax + B = 0 za unete konstantne A i B\n",
    "A = float(input(\"A = \"))\n",
    "B = float(input(\"B = \"))\n",
    "\n",
    "if A==0 and B==0:\n",
    "    print(\"x ∈ R\")\n",
    "elif A==0 and B!=0:\n",
    "    print(\"x ∈ ∅\")\n",
    "else:\n",
    "    print(\"x = {:.2f}\".format(-B/A))"
   ]
  },
  {
   "cell_type": "code",
   "execution_count": 1,
   "metadata": {},
   "outputs": [
    {
     "name": "stdout",
     "output_type": "stream",
     "text": [
      "Koliko je sati? 11\n",
      "Dobro jutro!\n"
     ]
    }
   ],
   "source": [
    "# Za uneto trenutno vreme u satima ispisati odgovarajući pozdrav\n",
    "h = int(input(\"Koliko je sati? \"))\n",
    "if h<0 or h>24:\n",
    "    print(\"Neispravno vreme\")\n",
    "else:\n",
    "    if 5<h<12:\n",
    "        print(\"Dobro jutro!\")\n",
    "        \n",
    "    elif 12<=h and h<21:\n",
    "        print(\"Dobar dan!\")\n",
    "    else:\n",
    "        print(\"Dobro veče!\")"
   ]
  },
  {
   "cell_type": "markdown",
   "metadata": {},
   "source": [
    "### For ciklus\n",
    "<ul>\n",
    "    <li>Izvršavanje određenog koda unapred određeni broj puta</li>\n",
    "    <li><b>for i in range(početak, kraj, korak)</b>:\n",
    "        <div style=\"text-indent: 30px\">naredba1</div>\n",
    "        <div style=\"text-indent: 30px\">naredba2</div>\n",
    "        <div style=\"text-indent: 30px\">...</div>\n",
    "        <div style=\"text-indent: 30px\">naredba3</div>\n",
    "    </li>\n",
    "    <li>Početak je uključen, a kraj nije</li>\n",
    "    <li>Početak nije obavezan (0 je podrazumevna vrednost)</li>\n",
    "    <li>Korak nije obavezan (1 je podrazumevna vrednost)</li>\n",
    "    <li>Komanda <b>break</b> za prekid</li>\n",
    "    <li>Komanda <b>continue</b> za prelazak u sledeću iteraciju</li>\n",
    "</ul>"
   ]
  },
  {
   "cell_type": "code",
   "execution_count": 16,
   "metadata": {},
   "outputs": [
    {
     "name": "stdout",
     "output_type": "stream",
     "text": [
      "20 18 16 14 12 10 8 6 4 2 "
     ]
    }
   ],
   "source": [
    "# Ispisati sve parne brojeve manje od 20 u opadajućem poretku\n",
    "for i in range(20, 0, -2):\n",
    "    print(i, end=' ')"
   ]
  },
  {
   "cell_type": "code",
   "execution_count": 12,
   "metadata": {},
   "outputs": [
    {
     "name": "stdout",
     "output_type": "stream",
     "text": [
      "n = 5\n",
      "5! = 120\n"
     ]
    }
   ],
   "source": [
    "# Odrediti n! za uneto n>=0\n",
    "n = int(input(\"n = \"))\n",
    "fact = 1\n",
    "for i in range(1,n+1):\n",
    "    fact*=i\n",
    "print(\"{}! = {}\".format(n, fact))"
   ]
  },
  {
   "cell_type": "code",
   "execution_count": 5,
   "metadata": {},
   "outputs": [
    {
     "name": "stdout",
     "output_type": "stream",
     "text": [
      "n = 13\n",
      "13 je prost\n"
     ]
    }
   ],
   "source": [
    "# Proveriti da li je uneti prirodan broj n prost\n",
    "n = int(input(\"n = \"))\n",
    "koren = int(n**0.5)+1\n",
    "\n",
    "prost = True\n",
    "for i in range(2, koren):\n",
    "    if n%i == 0:\n",
    "        prost = False\n",
    "        break\n",
    "\n",
    "if prost:\n",
    "    print(\"{} je prost\".format(n))\n",
    "else:\n",
    "    print(\"{} nije prost\".format(n))"
   ]
  },
  {
   "cell_type": "markdown",
   "metadata": {},
   "source": [
    "### While ciklus\n",
    "<ul>\n",
    "    <li>Izvršavanje određenog koda dok je logički uslov ispunjen</li>\n",
    "    <li>while <b>uslov</b>:\n",
    "        <div style=\"text-indent: 30px\">naredba1</div>\n",
    "        <div style=\"text-indent: 30px\">naredba2</div>\n",
    "        <div style=\"text-indent: 30px\">...</div>\n",
    "        <div style=\"text-indent: 30px\">naredba3</div>\n",
    "    </li>\n",
    "    <li>Komanda <b>break</b> za prekid</li>\n",
    "    <li>Komanda <b>continue</b> za prelazak u sledeću iteraciju</li>\n",
    "</ul>"
   ]
  },
  {
   "cell_type": "code",
   "execution_count": 16,
   "metadata": {},
   "outputs": [
    {
     "name": "stdout",
     "output_type": "stream",
     "text": [
      "n = 3\n",
      "Suma je 6\n"
     ]
    }
   ],
   "source": [
    "# Odrediti sumu prvih n brojeva za uneto n>=0\n",
    "n = int(input(\"n = \"))\n",
    "suma = 0\n",
    "while n>0:\n",
    "    suma += n\n",
    "    n -= 1\n",
    "print(\"Suma je {}\".format(suma))"
   ]
  }
 ],
 "metadata": {
  "kernelspec": {
   "display_name": "Python 3",
   "language": "python",
   "name": "python3"
  },
  "language_info": {
   "codemirror_mode": {
    "name": "ipython",
    "version": 3
   },
   "file_extension": ".py",
   "mimetype": "text/x-python",
   "name": "python",
   "nbconvert_exporter": "python",
   "pygments_lexer": "ipython3",
   "version": "3.6.3"
  }
 },
 "nbformat": 4,
 "nbformat_minor": 2
}
