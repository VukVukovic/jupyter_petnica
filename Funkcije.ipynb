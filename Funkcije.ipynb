{
 "cells": [
  {
   "cell_type": "markdown",
   "metadata": {},
   "source": [
    "### Istraživačka stanica Petnica\n",
    "# Funkcije\n",
    "### Vuk Vuković, Andrej Jakovljević\n",
    "### 12.05.2018. "
   ]
  },
  {
   "cell_type": "markdown",
   "metadata": {},
   "source": [
    "### Šta su funkcije\n",
    "<ul>\n",
    "    <li>Funkcije za određene ulazne vrednosti vraćaju rezultate</li>\n",
    "    <li>Odvajanje koda u logične celine</li>\n",
    "    <li>Isti kod se ponavlja više puta uz male izmene => koristiti funkcije</li>\n",
    "    <li>Izračunavanje proseka, određivanje maksimuma...</li>\n",
    "</ul>"
   ]
  },
  {
   "cell_type": "markdown",
   "metadata": {},
   "source": [
    "### Definisanje funkcija\n",
    "<ul>\n",
    "    <li><b>def naziv(argument1, argument2, ...)</b>:\n",
    "        <div style=\"text-indent: 30px\">naredba1</div>\n",
    "        <div style=\"text-indent: 30px\">naredba2</div>\n",
    "        <div style=\"text-indent: 30px\">naredba3</div>\n",
    "        <div style=\"text-indent: 30px\"><b>return rezultat</b></div>\n",
    "    </li>\n",
    "    <li>Return nije obavezan</li>\n",
    "    <li>Sve nakon return se ne izvršava u funkciji</li>\n",
    "</ul>"
   ]
  },
  {
   "cell_type": "markdown",
   "metadata": {},
   "source": [
    "### Argumenti\n",
    "<ul>\n",
    "    <li>Broj argumenata funkcije je proizvoljan</li>\n",
    "    <li>Argumentima se može zadati podrazumevana vrednost</li>\n",
    "    <li>Naziv argumenata u funkciji i njenom pozivu ne mora se poklapati</li>\n",
    "    <li>Argumenti se moraju pozivati redosledom</li>\n",
    "    <li>Ukoliko se neki argumenti izostave, a nije jasno o kojim argumentima se radi, obavezno je imenovanje</li>\n",
    "</ul>"
   ]
  },
  {
   "cell_type": "code",
   "execution_count": 10,
   "metadata": {},
   "outputs": [
    {
     "name": "stdout",
     "output_type": "stream",
     "text": [
      "19205\n",
      "19200\n",
      "18020\n"
     ]
    }
   ],
   "source": [
    "def funkcija(sati, minuti=0, sekunde=0):\n",
    "    return sati*60*60 + minuti*60 + sekunde\n",
    "\n",
    "print(funkcija(5, 20, 5))\n",
    "print(funkcija(5, 20))\n",
    "print(funkcija(5, sekunde=20))"
   ]
  },
  {
   "cell_type": "code",
   "execution_count": 5,
   "metadata": {},
   "outputs": [
    {
     "name": "stdout",
     "output_type": "stream",
     "text": [
      "A = 3\n",
      "B = 4\n",
      "x = -1.33\n"
     ]
    }
   ],
   "source": [
    "def resi_lin(A, B):\n",
    "    sol = \"\"\n",
    "    if A==0 and B==0:\n",
    "        sol = \"x ∈ R\"\n",
    "    elif A==0 and B!=0:\n",
    "        sol = \"x ∈ ∅\"\n",
    "    else:\n",
    "        sol = \"x = {:.2f}\".format(-B/A)\n",
    "    \n",
    "    return sol\n",
    "        \n",
    "a = float(input(\"A = \"))\n",
    "b = float(input(\"B = \"))\n",
    "print(resi_lin(a, b))"
   ]
  },
  {
   "cell_type": "markdown",
   "metadata": {},
   "source": [
    "### Lokalne i globalne promenljive\n",
    "<ul>\n",
    "    <li>Funkcije definisane u glavnom programu (van funkcija) su vidljive svima</li>\n",
    "    <li>Promeljive definisane unutar funkcjia su lokalne i vidljive samo funkcji</li>\n",
    "    <li>Prilikom poziva funkcije pravi se kopija primitivnog argumenta i čuva kao lokalna promenljiva</li>\n",
    "</ul>"
   ]
  },
  {
   "cell_type": "code",
   "execution_count": 15,
   "metadata": {},
   "outputs": [
    {
     "name": "stdout",
     "output_type": "stream",
     "text": [
      "4 5\n",
      "4 11\n"
     ]
    }
   ],
   "source": [
    "def promeni(x):\n",
    "    global y\n",
    "    x = 745\n",
    "    y += 6\n",
    "    \n",
    "a = 4\n",
    "y = 5\n",
    "print(a, y)\n",
    "promeni(a)\n",
    "print(a, y)"
   ]
  },
  {
   "cell_type": "markdown",
   "metadata": {},
   "source": [
    "### Rekurzivne funkcije\n",
    "<ul>\n",
    "    <li>Funkcie koje pozivaju same sebe</li>\n",
    "    <li>$5! = 5*4! = 5*4*3! = ... = 5*4*3*2*1 $</li>\n",
    "    <li>Potrebno je obezbediti izlaz iz rekurzije!</li>\n",
    "</ul>"
   ]
  },
  {
   "cell_type": "code",
   "execution_count": 3,
   "metadata": {},
   "outputs": [
    {
     "name": "stdout",
     "output_type": "stream",
     "text": [
      "120\n"
     ]
    }
   ],
   "source": [
    "# Napraviti funkciju koja za zadato n računa n!\n",
    "def fact(n):\n",
    "    if n==1: \n",
    "        return 1\n",
    "    return n*fact(n-1)\n",
    "\n",
    "print(fact(5))"
   ]
  }
 ],
 "metadata": {
  "kernelspec": {
   "display_name": "Python 3",
   "language": "python",
   "name": "python3"
  },
  "language_info": {
   "codemirror_mode": {
    "name": "ipython",
    "version": 3
   },
   "file_extension": ".py",
   "mimetype": "text/x-python",
   "name": "python",
   "nbconvert_exporter": "python",
   "pygments_lexer": "ipython3",
   "version": "3.6.3"
  }
 },
 "nbformat": 4,
 "nbformat_minor": 2
}
