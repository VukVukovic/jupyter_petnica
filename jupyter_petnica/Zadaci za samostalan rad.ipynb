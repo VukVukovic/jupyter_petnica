{
 "cells": [
  {
   "cell_type": "markdown",
   "metadata": {},
   "source": [
    "# Zadaci za samostalan rad\n",
    "## Unesite ime i prezime"
   ]
  },
  {
   "cell_type": "markdown",
   "metadata": {},
   "source": [
    "## Matematika i slično"
   ]
  },
  {
   "cell_type": "code",
   "execution_count": null,
   "metadata": {
    "collapsed": true
   },
   "outputs": [],
   "source": [
    "# Ispisati proste činioce za uneti prirodan broj N."
   ]
  },
  {
   "cell_type": "code",
   "execution_count": null,
   "metadata": {},
   "outputs": [],
   "source": [
    "# Napisati funkciju kojom se ispituje da li je dati prirodan broj N prost. \n",
    "# Broj je prost ako je deljiv samo sa jedan i samim sobom."
   ]
  },
  {
   "cell_type": "code",
   "execution_count": null,
   "metadata": {},
   "outputs": [],
   "source": [
    "# Koristeći funkciju iz prethodne tačke, napisati funkciju\n",
    "# koja proverava da li se zadati prirodan broj sastoji isključivo od prostih cifara."
   ]
  },
  {
   "cell_type": "code",
   "execution_count": null,
   "metadata": {},
   "outputs": [],
   "source": [
    "# Napisati program koji za dati prirodan broj N ispituje da li je stepen broja 3."
   ]
  },
  {
   "cell_type": "code",
   "execution_count": null,
   "metadata": {},
   "outputs": [],
   "source": [
    "# Za uneti broj x izračunati sa koliko nula se završava broj x! (x faktorijel)\n",
    "# Program mora raditi za sve brojeve x manje od 100 000."
   ]
  },
  {
   "cell_type": "code",
   "execution_count": null,
   "metadata": {},
   "outputs": [],
   "source": [
    "# Date su tri liste koje se sastoje od tuple-ova dužine 2 koji predstavljaju koordinate temena trouglova u ravni.\n",
    "# Odrediti indeks trougla naveće površine i ispisati tu površinu."
   ]
  },
  {
   "cell_type": "markdown",
   "metadata": {},
   "source": [
    "## Liste (nizovi)"
   ]
  },
  {
   "cell_type": "code",
   "execution_count": null,
   "metadata": {
    "collapsed": true
   },
   "outputs": [],
   "source": [
    "# Bez korišćenja ugrađene funkcije max pronaći najveći broj od unetih n brojeva."
   ]
  },
  {
   "cell_type": "code",
   "execution_count": null,
   "metadata": {},
   "outputs": [],
   "source": [
    "# Napisati funkciju za pronalazak aritmetičke sredine za prosleđenu listu brojeva."
   ]
  },
  {
   "cell_type": "code",
   "execution_count": null,
   "metadata": {},
   "outputs": [],
   "source": [
    "# Unosi se niz, obrnuti redosled njegovih elementata (prvi na poslednje mesto, drugi na pretposlednje, …). \n",
    "# Napomena: ne želimo samo da ispišemo elemente u obrnutom redosledu, \n",
    "# želimo da u memoriji promenimo niz tako da su njegovi elementi sada u obrnutom redosledu."
   ]
  },
  {
   "cell_type": "code",
   "execution_count": null,
   "metadata": {},
   "outputs": [],
   "source": [
    "# Za uneti niz proveriti da li su njegovi elementi u rastućem poretku."
   ]
  },
  {
   "cell_type": "code",
   "execution_count": null,
   "metadata": {},
   "outputs": [],
   "source": [
    "# Unosi se niz čiji su elementi u rastućem redosledu i jedan dodatni broj\n",
    "# Ubaciti dodatni broj u niz između neka dva postojeća elementa tako da niz ostane rastući."
   ]
  },
  {
   "cell_type": "code",
   "execution_count": null,
   "metadata": {},
   "outputs": [],
   "source": [
    "# Napisati funkciju maxind(a, start) koja za prosleđenu listu, a vraća indeks najvećeg\n",
    "# elementa na poziciji između start i kraja liste"
   ]
  },
  {
   "cell_type": "code",
   "execution_count": null,
   "metadata": {},
   "outputs": [],
   "source": [
    "# Jedan način za sortiranje liste (niza) je da prođemo kroz niz, nađemo najveći element, \n",
    "# stavimo ga na prvo mesto i onda nastavimo da ponavljamo ovaj postupak na ostatku niza. \n",
    "# Implementirajte ovaj postupak za sortiranje niza koristeći funkciju maxind iz prošle tačke"
   ]
  },
  {
   "cell_type": "markdown",
   "metadata": {},
   "source": [
    "## Mešoviti problemi"
   ]
  },
  {
   "cell_type": "code",
   "execution_count": null,
   "metadata": {},
   "outputs": [],
   "source": [
    "# Cena zlata na tokijskoj berzi se udvostruči svaka dva minuta, a svakih 10 sekundi se smanji za 8.4%. \n",
    "# Cena se upravo udvostručila i Oroku Saki sada ima zlato u vrednosti x jena. \n",
    "# Koliko će vredeti njegovo zlato posle n minuta?"
   ]
  },
  {
   "cell_type": "code",
   "execution_count": null,
   "metadata": {},
   "outputs": [],
   "source": [
    "# Odrediti (napisati funkciju) za koliko godina ulog u banci od U dinara uz godišnju kamatu P% naraste do R dinara."
   ]
  },
  {
   "cell_type": "code",
   "execution_count": null,
   "metadata": {},
   "outputs": [],
   "source": [
    "# Koliko brojeva će Hamato Joši zapisati ako zapisuje brojeve na parčetu papira po sledećim pravilu:\n",
    "# * Prvi broj bira potpuno proizvoljno\n",
    "# * Ukoliko je poslednji zapisani broj jednak 1 igra je završena\n",
    "# * Ukoliko je poslednji zapisani broj paran i jednak k zapisuje se broj k/2\n",
    "# Ukoliko je poslednji zapisani broj neparan i jednak k zapisuje se broj 3k+1\n",
    "# Hint: Potražiti kako funkcioniše funkcija random"
   ]
  },
  {
   "cell_type": "markdown",
   "metadata": {},
   "source": [
    "## numpy i matplotlib\n",
    "\n",
    "Posmatra se telo mase $m$ vezano za idealnu oprugu krutosti $k$, koje se kreće po glatkoj horizontalnoj podlozi duž $x$ ose. Na telo deluje otporna sila čiji je intenzitet srazmeran brzini $v$. Ovo kretanje može se opisati sledećom jednačinom.\n",
    "\n",
    "<center>$ma = -kx - bv$</center>\n",
    "\n",
    "Daljim sređivanjem dobija se diferencijalna jednačina drugog reda.\n",
    "\n",
    "<center>\n",
    "     $\\frac{d^2x}{dt^2} + 2\\alpha\\frac{dx}{dt} + \\omega_0^2x=0$\n",
    "</center>\n",
    "\n",
    "Rešenje prethodne jednačine je:\n",
    "<center>\n",
    "    $x(t) = Ae^{-\\alpha t}\\cos(\\omega t)$\n",
    "    \n",
    "</center>\n",
    "\n",
    "Posmatrati vreme od $0s$ do $20s$ u $1000$ ekvidistantnih tačaka.\n",
    "Na jednom grafiku sa dva subplot-a iscrtati:\n",
    "<ul>\n",
    "    <li>\n",
    "        Na levom subplotu zavisnost pozicije tela od vremena za $\\omega = 5 rad/s$, faktor prigušenja $\\alpha = 0.5 rad/s$ i amplitudu $A = 2m$ isprekidanom linijom crvene boje. Označiti ose sa jedinicama, dodati naslov grafika i legendu. Dodati sivu mrežu (grid). \n",
    "    </li>\n",
    "    <li>\n",
    "        Na desnom subplotu zavisnost pozicije tela od vremena za $\\omega = 10 rad/s$, faktor prigušenja $\\alpha = 1 rad/s$ i amplitudu $A = 2m$ punom linijom plave boje. Označiti ose sa jedinicama, dodati naslov grafika i legendu. Ograničiti vremensku osu na $(0, 10)$, a y osu na $(-2, 2)$.\n",
    "    </li>\n",
    "</ul>"
   ]
  },
  {
   "cell_type": "code",
   "execution_count": null,
   "metadata": {},
   "outputs": [],
   "source": []
  }
 ],
 "metadata": {
  "kernelspec": {
   "display_name": "Python 3",
   "language": "python",
   "name": "python3"
  },
  "language_info": {
   "codemirror_mode": {
    "name": "ipython",
    "version": 3
   },
   "file_extension": ".py",
   "mimetype": "text/x-python",
   "name": "python",
   "nbconvert_exporter": "python",
   "pygments_lexer": "ipython3",
   "version": "3.6.3"
  }
 },
 "nbformat": 4,
 "nbformat_minor": 2
}
