{
 "cells": [
  {
   "cell_type": "markdown",
   "metadata": {},
   "source": [
    "### Istraživačka stanica Petnica\n",
    "# Kontrolne strukture\n",
    "### Vuk Vuković, Andrej Jakovljević\n",
    "### 12.05.2018. "
   ]
  },
  {
   "cell_type": "markdown",
   "metadata": {},
   "source": [
    "### Čemu služe kontrolne strukture?\n",
    "<ul>\n",
    "    <li>Kontrolišu tok programa</li>\n",
    "    <li>Omogućavaju da se određeni delovi koda izvrše samo ukoliko je uslov ispunjen</li>\n",
    "    <li>Selekcija jednog od više mogućih ishoda</li>\n",
    "    <li>Omogućavaju ponavljanje instrukcija (određeni broj puta ili dok je uslov ispunjen)</li>\n",
    "</ul>"
   ]
  },
  {
   "cell_type": "markdown",
   "metadata": {},
   "source": [
    "### Uslovna grananja (if-else)\n",
    "<ul>\n",
    "    <li>Izvršavanje određenog koda ukoliko je uslov ispunjen</li>\n",
    "    <li>if <b>uslov1</b>:\n",
    "        <div style=\"text-indent: 30px\">kod1</div>\n",
    "        elif <b>uslov2</b>:\n",
    "        <div style=\"text-indent: 30px\">kod2</div>\n",
    "        else:\n",
    "        <div style=\"text-indent: 30px\">kod3</div>\n",
    "    </li>\n",
    "    <li>Uslovi su <b>tipa bool</b></li>\n",
    "    <li>Svaka linija koda u okviru if, elif i else grane mora biti uvučen za jednak broj razmaka ili tabova</li>\n",
    "    <li>Elif i else nisu obavezni</li>\n",
    "</ul>"
   ]
  },
  {
   "cell_type": "code",
   "execution_count": null,
   "metadata": {},
   "outputs": [],
   "source": [
    "# Rešiti jednačinu Ax + B = 0 za unete konstantne A i B"
   ]
  },
  {
   "cell_type": "code",
   "execution_count": null,
   "metadata": {},
   "outputs": [],
   "source": [
    "# Za uneto trenutno vreme u satima ispisati odgovarajući pozdrav"
   ]
  },
  {
   "cell_type": "markdown",
   "metadata": {},
   "source": [
    "### For ciklus\n",
    "<ul>\n",
    "    <li>Izvršavanje određenog koda unapred određeni broj puta</li>\n",
    "    <li><b>for i in range(početak, kraj, korak)</b>:\n",
    "        <div style=\"text-indent: 30px\">naredba1</div>\n",
    "        <div style=\"text-indent: 30px\">naredba2</div>\n",
    "        <div style=\"text-indent: 30px\">...</div>\n",
    "        <div style=\"text-indent: 30px\">naredba3</div>\n",
    "    </li>\n",
    "    <li>Početak je uključen, a kraj nije</li>\n",
    "    <li>Početak nije obavezan (0 je podrazumevna vrednost)</li>\n",
    "    <li>Korak nije obavezan (1 je podrazumevna vrednost)</li>\n",
    "    <li>Komanda <b>break</b> za prekid</li>\n",
    "    <li>Komanda <b>continue</b> za prelazak u sledeću iteraciju</li>\n",
    "</ul>"
   ]
  },
  {
   "cell_type": "code",
   "execution_count": null,
   "metadata": {},
   "outputs": [],
   "source": [
    "# Ispisati sve parne brojeve manje od 20 u opadajućem poretku"
   ]
  },
  {
   "cell_type": "code",
   "execution_count": null,
   "metadata": {},
   "outputs": [],
   "source": [
    "# Odrediti n! za uneto n>=0"
   ]
  },
  {
   "cell_type": "code",
   "execution_count": null,
   "metadata": {},
   "outputs": [],
   "source": [
    "# Proveriti da li je uneti prirodan broj n prost"
   ]
  },
  {
   "cell_type": "markdown",
   "metadata": {},
   "source": [
    "### While ciklus\n",
    "<ul>\n",
    "    <li>Izvršavanje određenog koda dok je logički uslov ispunjen</li>\n",
    "    <li>while <b>uslov</b>:\n",
    "        <div style=\"text-indent: 30px\">naredba1</div>\n",
    "        <div style=\"text-indent: 30px\">naredba2</div>\n",
    "        <div style=\"text-indent: 30px\">...</div>\n",
    "        <div style=\"text-indent: 30px\">naredba3</div>\n",
    "    </li>\n",
    "    <li>Komanda <b>break</b> za prekid</li>\n",
    "    <li>Komanda <b>continue</b> za prelazak u sledeću iteraciju</li>\n",
    "</ul>"
   ]
  },
  {
   "cell_type": "code",
   "execution_count": null,
   "metadata": {},
   "outputs": [],
   "source": [
    "# Odrediti sumu prvih n brojeva za uneto n>=0"
   ]
  }
 ],
 "metadata": {
  "kernelspec": {
   "display_name": "Python 3",
   "language": "python",
   "name": "python3"
  },
  "language_info": {
   "codemirror_mode": {
    "name": "ipython",
    "version": 3
   },
   "file_extension": ".py",
   "mimetype": "text/x-python",
   "name": "python",
   "nbconvert_exporter": "python",
   "pygments_lexer": "ipython3",
   "version": "3.6.3"
  }
 },
 "nbformat": 4,
 "nbformat_minor": 2
}
