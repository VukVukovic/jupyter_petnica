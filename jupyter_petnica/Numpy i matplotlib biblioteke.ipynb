{
 "cells": [
  {
   "cell_type": "markdown",
   "metadata": {},
   "source": [
    "### Istraživačka stanica Petnica\n",
    "# Biblioteke numpy i matplotlib\n",
    "### Vuk Vuković, Andrej Jakovljević\n",
    "### 12.05.2018. "
   ]
  },
  {
   "cell_type": "markdown",
   "metadata": {},
   "source": [
    "### Biblioteke\n",
    "<ul>\n",
    "    <li>U jednom Python fajlu se mogu uvesti funkcije i promenljive iz drugih</li>\n",
    "    <li>Na ovaj način se koriste i biblioteke</li>\n",
    "    <li>Uvoz se vrši ključnom rečju <b>import</b></li>\n",
    "    <li>Može se uvesti i samo određena funkcija u obliku <b>from <i>fajl</i> import <i>funkcija</i></b></li>\n",
    "    <li>Uvođenje skraćenice za pozivanje (import biblioteka as bib)</li>\n",
    "</ul>"
   ]
  },
  {
   "cell_type": "markdown",
   "metadata": {},
   "source": [
    "### Numpy\n",
    "<ul>\n",
    "    <li>Biblioteka koja omogućava efikasnu upotrebu više-dimenzionih nizova u programskom jeziku Python</li>\n",
    "    <li>Najčešće se koristi u naučne svrhe</li>\n",
    "    <li>Pre koriščenja potrebno je dodati liniju <b>import numpy as np</b></li>\n",
    "    <li>Osnovni objekat u radu sa numpy bibliotekom je homogeni multidimenzioni niz koji predstavlja tabelu elemenata</li>\n",
    "    <li>Svi elementi moraju biti istog tipa i najčešće su to brojevi</li>\n",
    "    <li>Nizovi se formiraju funkcijom <b>array</b>, dok su <b>ones</b> i <b>zeros</b> takođe veoma korisne funkcije</li>\n",
    "</ul>"
   ]
  },
  {
   "cell_type": "code",
   "execution_count": null,
   "metadata": {},
   "outputs": [],
   "source": [
    "# Proba sa definisanjem numpy nizova"
   ]
  },
  {
   "cell_type": "markdown",
   "metadata": {},
   "source": [
    "### Korisne funkcije\n",
    "<ul>\n",
    "    <li>Veoma korisne funkcije za fizičke simulacije i numeričke metode jesu <b>linspace</b> i <b>arrange</b></li>\n",
    "    <li>One na 2 različita načina generišu brojeve iz opsega sa oređenim korakom</li>\n",
    "    <li>Funkcija <b>diff</b> pronalazi razliku susednih elemenata niza</li>\n",
    "    <li>Funkcijom <b>where</b> možemo pronaći sve indekse na kojima vrednost elementa zadovoljava određeni uslov</li>\n",
    "</ul>"
   ]
  },
  {
   "cell_type": "code",
   "execution_count": null,
   "metadata": {},
   "outputs": [],
   "source": [
    "# arrange i linspace"
   ]
  },
  {
   "cell_type": "code",
   "execution_count": null,
   "metadata": {},
   "outputs": [],
   "source": [
    "# Pronaći indekse nula funkcije (promene znaka) zadate nizom"
   ]
  },
  {
   "cell_type": "markdown",
   "metadata": {},
   "source": [
    "### Operacija sa numpy objektima\n",
    "<ul>\n",
    "    <li>Najpogodnija mogućnost koju ova biblioteka pruža jeste primena matematičkih funkcija i operacija na objekte</li>\n",
    "    <li>numpy biblioteka daje nam mogućnost za korišćenje i matematičkih konstanti (np.pi, np.e, ...) i funkcija (np.exp, np.sin, ...) </li>\n",
    "</ul>"
   ]
  },
  {
   "cell_type": "code",
   "execution_count": null,
   "metadata": {},
   "outputs": [],
   "source": [
    "# Razlika, proizvodi, funkcija preko tablice, maksimalna, minimalna vrednost"
   ]
  },
  {
   "cell_type": "markdown",
   "metadata": {},
   "source": [
    "### matplotlib biblioteka\n",
    "<ul>\n",
    "    <li>Biblioteka <i>matplotlib</i> omogućava iscrtavanje grafika, histograma, scatterplot i 3D grafika u Python-u</li>\n",
    "    <li>Koristićemo je u uskoj vezi sa numpy bibliotekom</li>\n",
    "    <li>Ova biblioteka uvozi se na sledei način: <b>import matplotlib.pyplot as plt</b></li>\n",
    "</ul>"
   ]
  },
  {
   "cell_type": "markdown",
   "metadata": {},
   "source": [
    "### Osnovne funkcije"
   ]
  },
  {
   "cell_type": "code",
   "execution_count": null,
   "metadata": {},
   "outputs": [],
   "source": [
    "# Iscrtavanje 2sinx\n",
    "# 2 subplota, 1. random scatter, 2. cosx"
   ]
  }
 ],
 "metadata": {
  "kernelspec": {
   "display_name": "Python 3",
   "language": "python",
   "name": "python3"
  },
  "language_info": {
   "codemirror_mode": {
    "name": "ipython",
    "version": 3
   },
   "file_extension": ".py",
   "mimetype": "text/x-python",
   "name": "python",
   "nbconvert_exporter": "python",
   "pygments_lexer": "ipython3",
   "version": "3.6.3"
  }
 },
 "nbformat": 4,
 "nbformat_minor": 2
}
