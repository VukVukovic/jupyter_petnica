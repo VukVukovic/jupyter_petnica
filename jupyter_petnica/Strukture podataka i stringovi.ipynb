{
 "cells": [
  {
   "cell_type": "markdown",
   "metadata": {},
   "source": [
    "### Istraživačka stanica Petnica\n",
    "# Strukture podataka i stringovi\n",
    "### Vuk Vuković, Andrej Jakovljević\n",
    "### 12.05.2018. "
   ]
  },
  {
   "cell_type": "markdown",
   "metadata": {},
   "source": [
    "### Liste\n",
    "<ul>\n",
    "    <li>Za razliku od ostalih jezika, u Pythonu ne postoje nizovi već ugrađena struktura listi</li>\n",
    "    <li>Liste se označavaju uglastim zagradama <b>[]</b></li>\n",
    "    <li>Liste ne moraju biti homogene</li>\n",
    "    <li>Prazna lista se definiše na sledeći način: emptyList = []</li>\n",
    "    <li>Pristupanje elemtima <b>a[i]</b> numerisano od 0 (negativni indeksi -> pristup od kraja)</li>\n",
    "    <li>Dodavanje elementa na kraj liste funkcijom <b>append</b>, nadovezivanje listi sa <b>+</b></li>\n",
    "    <li>Iteracija kroz listu se vrši na više načina</li>\n",
    "    <li>Dužina liste korišćenjem funkcije <b>len</b></li>\n",
    "    <li>Dohvatanje segmenta od $i_1$ do $i_2$ a[i1:i2] ($i_2$ nije uključeno)</li>\n",
    "    <li>Brisanje elementa sa <b>del a[i]</b></li>\n",
    "    <li>Ubacivanje elementa na poziciju i sa <b>insert(index, element)</b></li>\n",
    "</ul>"
   ]
  },
  {
   "cell_type": "code",
   "execution_count": null,
   "metadata": {},
   "outputs": [],
   "source": [
    "# Proba manipulacije sa listama"
   ]
  },
  {
   "cell_type": "code",
   "execution_count": null,
   "metadata": {},
   "outputs": [],
   "source": [
    "# Iteracija kroz listu"
   ]
  },
  {
   "cell_type": "code",
   "execution_count": null,
   "metadata": {},
   "outputs": [],
   "source": [
    "# Kopija ili pokazivač na listu"
   ]
  },
  {
   "cell_type": "markdown",
   "metadata": {},
   "source": [
    "### Skupovi\n",
    "<ul>\n",
    "    <li>Kao u matematici, <b>neuređeni skup objekata u kome nema ponavljanja</b></li>\n",
    "    <li>Najčešće se koristi za ispitivanje <b>pripadnosti i uklanjanju duplikata</b></li>\n",
    "    <li>Skupovi se označavaju vitičastim zagradama <b>{}</b></li>\n",
    "    <li>Prazan skup se definiše na sledeći način: emptySet = set()</li>\n",
    "    <li>Moguće su operacije unije <b>|</b>, preseka <b>&</b>, razlike <b>-</b>, simetrične razlike <b>^</b></li>\n",
    "    <li>Provera pripadnosti <b>element in skup</b></li>\n",
    "    <li>Poređenje jednakosti <b>==</b> i nejednakosti <b>!=</b>, podskupa i nadskupa (pravog i nepravog) <b><pre><= < >= ></pre></b></li>\n",
    "</ul>"
   ]
  },
  {
   "cell_type": "code",
   "execution_count": null,
   "metadata": {},
   "outputs": [],
   "source": [
    "# Proba sa skupovima"
   ]
  },
  {
   "cell_type": "code",
   "execution_count": null,
   "metadata": {},
   "outputs": [],
   "source": [
    "# Duplikati sličica"
   ]
  },
  {
   "cell_type": "markdown",
   "metadata": {},
   "source": [
    "### Torke (Tuple)\n",
    "<ul>\n",
    "    <li>Slično listama, ali elementi nisu promenljivi</li>\n",
    "    <li>Ekvivalent n-torkama u matematici</li>\n",
    "    <li>Kako funkcije mogu vraćati samo jednu vrednost, veoma pogodno koristiti</li>\n",
    "    <li>Lako raspakivanje na zasebne promenljive</li>\n",
    "</ul>"
   ]
  },
  {
   "cell_type": "code",
   "execution_count": null,
   "metadata": {},
   "outputs": [],
   "source": [
    "# Funkcija za translaciju"
   ]
  },
  {
   "cell_type": "code",
   "execution_count": null,
   "metadata": {},
   "outputs": [],
   "source": [
    "# Zamena dve promenljive"
   ]
  },
  {
   "cell_type": "markdown",
   "metadata": {},
   "source": [
    "### Rečnik (Dict)\n",
    "<ul>\n",
    "    <li>Parovi <b>ključ, vrednost</b></li>\n",
    "    <li>Može se posmatrati kao niz (lista) kod kog indeksi nisu brojevi već neka druga struktura podataka</li>\n",
    "    <li>Pretraga se vrši <b>po ključevima</b> i zato su jedinstveni</li>\n",
    "    <li>Označava se kao skup vitičastim zagradama, ali je struktura drugačija</li>\n",
    "    <li>Prazan rečnik se označava sa <b>dict()</b></li>\n",
    "</ul>"
   ]
  },
  {
   "cell_type": "code",
   "execution_count": null,
   "metadata": {},
   "outputs": [],
   "source": [
    "# Prevod rečenice \"hello what is going on\""
   ]
  },
  {
   "cell_type": "markdown",
   "metadata": {},
   "source": [
    "### Stringovi\n",
    "<ul>\n",
    "    <li>Tekstualni podaci</li>\n",
    "    <li>Implementirani preko Tuple-a pa su iz tog razloga nepromenljivi</li>\n",
    "    <li>Korisne funkcije <b>split</b> (razdvajanje po separatoru) i <b>find</b> (pronalazak indeksa prvog pojavljivanja)</li>\n",
    "</ul>"
   ]
  },
  {
   "cell_type": "code",
   "execution_count": null,
   "metadata": {},
   "outputs": [],
   "source": [
    "# Proba sa stringovima"
   ]
  }
 ],
 "metadata": {
  "kernelspec": {
   "display_name": "Python 3",
   "language": "python",
   "name": "python3"
  },
  "language_info": {
   "codemirror_mode": {
    "name": "ipython",
    "version": 3
   },
   "file_extension": ".py",
   "mimetype": "text/x-python",
   "name": "python",
   "nbconvert_exporter": "python",
   "pygments_lexer": "ipython3",
   "version": "3.6.3"
  }
 },
 "nbformat": 4,
 "nbformat_minor": 2
}
