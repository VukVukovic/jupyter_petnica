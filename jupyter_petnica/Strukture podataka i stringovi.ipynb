{
 "cells": [
  {
   "cell_type": "markdown",
   "metadata": {},
   "source": [
    "### Istraživačka stanica Petnica\n",
    "# Strukture podataka i stringovi\n",
    "### Vuk Vuković, Andrej Jakovljević\n",
    "### 12.05.2018. "
   ]
  },
  {
   "cell_type": "markdown",
   "metadata": {},
   "source": [
    "### Liste\n",
    "<ul>\n",
    "    <li>Za razliku od ostalih jezika, u Pythonu ne postoje nizovi već ugrađena struktura listi</li>\n",
    "    <li>Liste se označavaju uglastim zagradama <b>[]</b></li>\n",
    "    <li>Liste ne moraju biti homogene</li>\n",
    "    <li>Prazna lista se definiše na sledeći način: emptyList = []</li>\n",
    "    <li>Pristupanje elemtima <b>a[i]</b> numerisano od 0 (negativni indeksi -> pristup od kraja)</li>\n",
    "    <li>Dodavanje elementa na kraj liste funkcijom <b>append</b>, nadovezivanje listi sa <b>+</b></li>\n",
    "    <li>Iteracija kroz listu se vrši na više načina</li>\n",
    "    <li>Dužina liste korišćenjem funkcije <b>len</b></li>\n",
    "    <li>Dohvatanje segmenta od $i_1$ do $i_2$ a[i1:i2] ($i_2$ nije uključeno)</li>\n",
    "    <li>Brisanje elementa sa <b>del a[i]</b></li>\n",
    "    <li>Ubacivanje elementa na poziciju i sa <b>insert(index, element)</b></li>\n",
    "</ul>"
   ]
  },
  {
   "cell_type": "code",
   "execution_count": 2,
   "metadata": {},
   "outputs": [
    {
     "name": "stdout",
     "output_type": "stream",
     "text": [
      "[2, 3]\n",
      "[2, 20, 4]\n",
      "[2, 20, 4, 6, 7]\n",
      "[2, 4, 6, 7, [8, 9]]\n",
      "[2, 4, 6, 7, [8, 9], 'a'] \n",
      "\n",
      "Na indeksu 0 je 2\n",
      "Na indeksu 4 je [8, 9]\n",
      "Na indeksu -1 je a\n",
      "8 \n",
      "\n",
      "Dužina liste  6\n",
      "[4, 6, 7]\n",
      "[2, 6, 4, 6, 7, [8, 9], 'a']\n"
     ]
    }
   ],
   "source": [
    "lista = [2, 3]\n",
    "print(lista)\n",
    "\n",
    "lista.append(4)\n",
    "lista[1] = 20\n",
    "print(lista)\n",
    "\n",
    "lista = lista + [6, 7]\n",
    "print(lista)\n",
    "\n",
    "lista.append([8,9])\n",
    "del lista[1]\n",
    "print(lista)\n",
    "\n",
    "lista += ['a']\n",
    "print(lista, '\\n')\n",
    "\n",
    "print(\"Na indeksu {} je {}\".format(0, lista[0]))\n",
    "print(\"Na indeksu {} je {}\".format(4, lista[4]))\n",
    "print(\"Na indeksu {} je {}\".format(-1, lista[-1]))\n",
    "print(lista[4][0], '\\n')\n",
    "\n",
    "print(\"Dužina liste \", len(lista))\n",
    "print(lista[1:4])\n",
    "\n",
    "lista.insert(1, 6)\n",
    "print(lista)"
   ]
  },
  {
   "cell_type": "code",
   "execution_count": 23,
   "metadata": {},
   "outputs": [
    {
     "name": "stdout",
     "output_type": "stream",
     "text": [
      "crvena\n",
      "plava\n",
      "zelena\n",
      "crna\n",
      "['crvena', 'plava', 'zelena', 'crna']\n",
      "\n",
      "crvena\n",
      "plava\n",
      "zelena\n",
      "crna\n",
      "['bela', 'bela', 'bela', 'bela']\n"
     ]
    }
   ],
   "source": [
    "boje = ['crvena', 'plava', 'zelena', 'crna']\n",
    "for b in boje:\n",
    "    print(b)\n",
    "    b = 'bela'\n",
    "    \n",
    "print(boje)\n",
    "print()\n",
    "\n",
    "for i in range(len(boje)):\n",
    "    print(boje[i])\n",
    "    boje[i] = 'bela'\n",
    "\n",
    "print(boje)"
   ]
  },
  {
   "cell_type": "code",
   "execution_count": 28,
   "metadata": {},
   "outputs": [
    {
     "name": "stdout",
     "output_type": "stream",
     "text": [
      "[9, 6, 1, 7]\n",
      "[9, 6, 1, 7]\n"
     ]
    }
   ],
   "source": [
    "a = [4, 6, 1, 7]\n",
    "b = a\n",
    "b[0] = 9\n",
    "print(a)\n",
    "\n",
    "b = a.copy()\n",
    "b[0] = 10\n",
    "print(a)"
   ]
  },
  {
   "cell_type": "markdown",
   "metadata": {},
   "source": [
    "### Skupovi\n",
    "<ul>\n",
    "    <li>Kao u matematici, <b>neuređeni skup objekata u kome nema ponavljanja</b></li>\n",
    "    <li>Najčešće se koristi za ispitivanje <b>pripadnosti i uklanjanju duplikata</b></li>\n",
    "    <li>Skupovi se označavaju vitičastim zagradama <b>{}</b></li>\n",
    "    <li>Prazan skup se definiše na sledeći način: emptySet = set()</li>\n",
    "    <li>Moguće su operacije unije <b>|</b>, preseka <b>&</b>, razlike <b>-</b>, simetrične razlike <b>^</b></li>\n",
    "    <li>Provera pripadnosti <b>element in skup</b></li>\n",
    "    <li>Poređenje jednakosti <b>==</b> i nejednakosti <b>!=</b>, podskupa i nadskupa (pravog i nepravog) <b><pre><= < >= ></pre></b></li>\n",
    "</ul>"
   ]
  },
  {
   "cell_type": "code",
   "execution_count": 34,
   "metadata": {},
   "outputs": [
    {
     "name": "stdout",
     "output_type": "stream",
     "text": [
      "{2, 3, 4, 5}\n",
      "{3, 4, 5}\n",
      "4 je u skupu!\n",
      "{4,5} je pravi podskup!\n"
     ]
    }
   ],
   "source": [
    "skup = {2, 3, 4}\n",
    "skup |= {2, 2, 2, 5}\n",
    "print(skup)\n",
    "\n",
    "skup = skup - {2}\n",
    "print(skup)\n",
    "\n",
    "if 4 in skup:\n",
    "    print(\"4 je u skupu!\")\n",
    "    \n",
    "if {4, 5} < skup:\n",
    "    print(\"{4,5} je pravi podskup!\")"
   ]
  },
  {
   "cell_type": "code",
   "execution_count": 37,
   "metadata": {},
   "outputs": [
    {
     "name": "stdout",
     "output_type": "stream",
     "text": [
      "{4, 5, 6, 7, 8, 9, 10, 23, 24}\n",
      "Različite: 9\n",
      "Duplikati: 6\n"
     ]
    }
   ],
   "source": [
    "# Za zadate brojeve sličica u listi slicice, odrediti koliko sličica je različito, a koliko ima duplikata\n",
    "slicice = [5,7,8,4,5,6,7,8,9,10,23,24,23,5,4]\n",
    "slicice_skup = set(slicice)\n",
    "print(slicice_skup)\n",
    "\n",
    "raz = len(slicice_skup)\n",
    "dup = len(slicice) - raz\n",
    "print(\"Različite: {}\\nDuplikati: {}\".format(raz, dup))"
   ]
  },
  {
   "cell_type": "markdown",
   "metadata": {},
   "source": [
    "### Torke (Tuple)\n",
    "<ul>\n",
    "    <li>Slično listama, ali elementi nisu promenljivi</li>\n",
    "    <li>Ekvivalent n-torkama u matematici</li>\n",
    "    <li>Kako funkcije mogu vraćati samo jednu vrednost, veoma pogodno koristiti</li>\n",
    "    <li>Lako raspakivanje na zasebne promenljive</li>\n",
    "</ul>"
   ]
  },
  {
   "cell_type": "code",
   "execution_count": 48,
   "metadata": {},
   "outputs": [
    {
     "name": "stdout",
     "output_type": "stream",
     "text": [
      "6 6\n"
     ]
    }
   ],
   "source": [
    "def transliraj(x, y, t):\n",
    "    x = x+t\n",
    "    y = y+t\n",
    "    return (x, y)\n",
    "\n",
    "x = 1\n",
    "y = 1\n",
    "x1, y1 = transliraj(x, y, 5)\n",
    "print(x1, y1)"
   ]
  },
  {
   "cell_type": "code",
   "execution_count": 41,
   "metadata": {},
   "outputs": [
    {
     "name": "stdout",
     "output_type": "stream",
     "text": [
      "6 5\n",
      "6 5\n"
     ]
    }
   ],
   "source": [
    "# Zamena dve promenljive\n",
    "a = 5\n",
    "b = 6\n",
    "t = a\n",
    "a = b\n",
    "b = t\n",
    "print(a, b)\n",
    "\n",
    "# Pyhton zamena \n",
    "a = 5\n",
    "b = 6\n",
    "b, a = a, b\n",
    "print(a, b)"
   ]
  },
  {
   "cell_type": "markdown",
   "metadata": {},
   "source": [
    "### Rečnik (Dict)\n",
    "<ul>\n",
    "    <li>Parovi <b>ključ, vrednost</b></li>\n",
    "    <li>Može se posmatrati kao niz (lista) kod kog indeksi nisu brojevi već neka druga struktura podataka</li>\n",
    "    <li>Pretraga se vrši <b>po ključevima</b> i zato su jedinstveni</li>\n",
    "    <li>Označava se kao skup vitičastim zagradama, ali je struktura drugačija</li>\n",
    "    <li>Prazan rečnik se označava sa <b>dict()</b></li>\n",
    "</ul>"
   ]
  },
  {
   "cell_type": "code",
   "execution_count": 67,
   "metadata": {},
   "outputs": [
    {
     "name": "stdout",
     "output_type": "stream",
     "text": [
      "{'hello': 'zdravo', 'what': 'sta', 'is': 'se'}\n",
      "zdravo sta se going on \n"
     ]
    }
   ],
   "source": [
    "recnik = {\"hello\" : \"zdravo\",\n",
    "          \"what\":\"sta\"}\n",
    "recnik[\"is\"]=\"se\"\n",
    "recnik[\"going\"]=\"ide\"\n",
    "del recnik[\"going\"]\n",
    "\n",
    "print(recnik)\n",
    "recenica = \"hello what is going on\"\n",
    "reci = recenica.split(\" \")\n",
    "\n",
    "prevod = \"\"\n",
    "for r in reci:\n",
    "    p = recnik.get(r)\n",
    "    if p!=None:\n",
    "        prevod+=p\n",
    "    else:\n",
    "        prevod+=r\n",
    "    prevod+=\" \"\n",
    "print(prevod)"
   ]
  },
  {
   "cell_type": "markdown",
   "metadata": {},
   "source": [
    "### Stringovi\n",
    "<ul>\n",
    "    <li>Tekstualni podaci</li>\n",
    "    <li>Implementirani preko Tuple-a pa su iz tog razloga nepromenljivi</li>\n",
    "    <li>Korisne funkcije <b>split</b> (razdvajanje po separatoru) i <b>find</b> (pronalazak indeksa prvog pojavljivanja)</li>\n",
    "</ul>"
   ]
  },
  {
   "cell_type": "code",
   "execution_count": 56,
   "metadata": {},
   "outputs": [
    {
     "name": "stdout",
     "output_type": "stream",
     "text": [
      "['Seminar', 'fizike', 'je', 'najbolji!']\n",
      "nar fizik\n",
      "Tekst sa prelaskom\n",
      "u novu liniju i \" apostrofima\n",
      "8\n"
     ]
    }
   ],
   "source": [
    "s = \"Seminar fizike je najbolji!\"\n",
    "\n",
    "reci = s.split(\" \")\n",
    "print(reci)\n",
    "\n",
    "print(s[4:13])\n",
    "\n",
    "print(\"Tekst sa prelaskom\\nu novu liniju i \\\" apostrofima\")\n",
    "\n",
    "print(s.find(\"fizike\"))"
   ]
  }
 ],
 "metadata": {
  "kernelspec": {
   "display_name": "Python 3",
   "language": "python",
   "name": "python3"
  },
  "language_info": {
   "codemirror_mode": {
    "name": "ipython",
    "version": 3
   },
   "file_extension": ".py",
   "mimetype": "text/x-python",
   "name": "python",
   "nbconvert_exporter": "python",
   "pygments_lexer": "ipython3",
   "version": "3.6.3"
  }
 },
 "nbformat": 4,
 "nbformat_minor": 2
}
