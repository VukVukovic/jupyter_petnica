{
 "cells": [
  {
   "cell_type": "markdown",
   "metadata": {},
   "source": [
    "### Istraživačka stanica Petnica\n",
    "# Uvod u programiranje, osnovni tipovi, ulaz i izlaz\n",
    "### Vuk Vuković, Andrej Jakovljević\n",
    "### 12.05.2018. "
   ]
  },
  {
   "cell_type": "markdown",
   "metadata": {},
   "source": [
    "### Uvod\n",
    "<ul>\n",
    "    <li>Program je skup instrukcija koje govore računaru kako da izvrši određeni zadatak</li>\n",
    "    <li>Algoritam</li>\n",
    "    <li>Kako namazati puter na hleb?</li>\n",
    "    <li>Računar je <b>glup</b></li>\n",
    "</ul>\n",
    "<img style=\"width:40%\" src=\"slike/puter.jpg\" />"
   ]
  },
  {
   "cell_type": "markdown",
   "metadata": {},
   "source": [
    "### Algoritam\n",
    "<ul>\n",
    "    <li>Ulazni podaci</li>\n",
    "    <li>Obrada</li>\n",
    "    <li>Izlazni podaci</li>\n",
    "    <li>Primer: veći od 2 zadata broja pomnožiti sa 5 i ispisati rezultat</li>\n",
    "</ul>\n",
    "<img style=\"width:40%\" src=\"slike/dijagram.jpg\" />"
   ]
  },
  {
   "cell_type": "markdown",
   "metadata": {},
   "source": [
    "### Programski jezici\n",
    "<ul>\n",
    "    <li>C/C++, Java, Python, C#, Visual Basic, PHP, R, MATLAB</li>\n",
    "    <li>Programski jezici visokog i niskog nivoa</li>\n",
    "    <li>Kompajliranje i interpretiranje</li>\n",
    "</ul>\n",
    "\n",
    "<img style=\"width:40%\" src=\"slike/jezici.png\" />"
   ]
  },
  {
   "cell_type": "markdown",
   "metadata": {},
   "source": [
    "### Phyton\n",
    "<ul>\n",
    "    <li>Python</li>\n",
    "    <li>Verzija 2 i 3 (velike razlike)</li>\n",
    "    <li>Koristimo verziju 3.6</li>\n",
    "    <li>Interperterski programski jezik visokog nivoa, opšte namene</li>\n",
    "    <li>https://docs.python.org/3/</li>\n",
    "</ul>\n",
    "\n",
    "<img style=\"width:40%\" src=\"slike/python.png\" />"
   ]
  },
  {
   "cell_type": "markdown",
   "metadata": {},
   "source": [
    "### Zašto Python?\n",
    "<ul>\n",
    "    <li>Sve popularniji</li>\n",
    "    <li>Lak za učenje</li>\n",
    "    <li>Elegantan i kratak za pisanje</li>\n",
    "    <li>Bogata biblioteka funkcija, produktivnost znatno veća</li>\n",
    "    <li>Koristi ga Google, Facebook, CERN, naučne institucije</li>\n",
    "</ul>\n",
    "\n",
    "<img style=\"width:40%\" src=\"slike/lako.jpg\" />"
   ]
  },
  {
   "cell_type": "markdown",
   "metadata": {},
   "source": [
    "### Osnovni tipovi\n",
    "<ul>\n",
    "    <li><b>Podatak</b> je entitet kome računar pristupa pomoću imena (identifikatora)</li>\n",
    "    <li>Podatak se čuva u memoriji</li>\n",
    "    <li><b>Tip podatka</b> specificira način čuvanja u memoriji, kao i dozvoljene operacije</li>\n",
    "    <li>Nije potrebno navoditi tip podatka, implicitno se zaključjuje</li>\n",
    "    <li>Osnovni tipovi: <b>int, float, bool, str</b></li>\n",
    "    <li>Promenljiva je podatak kome se može menjati vrednost</li>\n",
    "    <li>Naziv (identifikator) </li>\n",
    "    <li>Napomena: Python je case-sensitive jezik</li>\n",
    "</ul>"
   ]
  },
  {
   "cell_type": "code",
   "execution_count": null,
   "metadata": {},
   "outputs": [],
   "source": []
  },
  {
   "cell_type": "markdown",
   "metadata": {},
   "source": [
    "### Komentari u kodu\n",
    "<ul>\n",
    "    <li>Delovi programskog koda koji se ne izvršavaju</li>\n",
    "    <li>Poželjni za korišćenje radi boljeg razumevanja</li>\n",
    "    <li>Veći projekat koji se duže vremena izrađuje, rad u timu</li>\n",
    "    <li>Jednolinijski komentari <b>#</b></li>\n",
    "    <li>Višelinijski komentari između para <b>'''</b></li>\n",
    "</ul>"
   ]
  },
  {
   "cell_type": "code",
   "execution_count": null,
   "metadata": {},
   "outputs": [],
   "source": []
  },
  {
   "cell_type": "markdown",
   "metadata": {},
   "source": [
    "### Ulaz i izlaz\n",
    "<ul>\n",
    "    <li>Jednostavna interakcija sa programom</li>\n",
    "    <li>Unos podataka kroz standardni ulaz</li>\n",
    "    <li>Ispis podataka na standardnom izlazu</li>\n",
    "    <li>Funkcija <b>print()</b> štampa vrednosti koje se proslede kao argumenti</li>\n",
    "    <li>Moguće je proslediti više podataka <b>print(2, \"tekst\", 4.5)</b></li>\n",
    "    <li>Moguće je obezbediti i formatiranje korišćenjem funkcije <b>format</b></li>\n",
    "    <li>Funkcija <b>input()</b> čita tekst, a zatim pokušava da ga prevede u neki od primitivnih tipova</li>\n",
    "    <li>Dozvoljeno je proslediti poruku <b>input(\"Unesite broj: \")</b></li>\n",
    "    <li>Najbolje je koristiti int(input()) ili float(input()) u radu sa brojevima</li>\n",
    "</ul>"
   ]
  },
  {
   "cell_type": "markdown",
   "metadata": {},
   "source": [
    "### Celi brojevi (int)\n",
    "<ul>\n",
    "    <li>Vrednosti: $minint,\\ ...,\\ -2,\\ -1,\\ 0,\\ 1,\\ 2,\\ ...,\\ maxint$</li>\n",
    "    <li>Operacije sa celobrojnim promenljivim</li>\n",
    "    <li>Sabiranje i oduzimanje $+\\ -$</li>\n",
    "    <li>Množenje i celobrojno deljenje $*\\ //$</li>\n",
    "    <li>Stepenovanje $**$</li>\n",
    "    <li>Ostatak pri deljenju $\\%$</li>\n",
    "    <li>Realno deljenje $/$ uvek vrši konverziju u float</li>\n",
    "</ul>"
   ]
  },
  {
   "cell_type": "markdown",
   "metadata": {},
   "source": [
    "### Realni brojevi (float)\n",
    "<ul>\n",
    "    <li>Podskup realnih brojeva</li>\n",
    "    <li>$1.4,\\ 2.333,\\ -.04,\\ -35e-3\\ (-35*10^{-3}),\\ ...$</li>\n",
    "    <li>Sabiranje i oduzimanje $+\\ -$</li>\n",
    "    <li>Množenje i deljenje $*\\ /$</li>\n",
    "    <li>Stepenovanje $**$</li>\n",
    "    <li>Ograničena tačnost, zaokruživanje</li>\n",
    "</ul>"
   ]
  },
  {
   "cell_type": "markdown",
   "metadata": {},
   "source": [
    "### Logički podaci (bool)\n",
    "\n",
    "<ul>\n",
    "    <li>Dve moguće vrednosti: $True$ i $False$ (logička istina i neistina)</li>\n",
    "    <li>Logički operatori: $and, or, not$</li>\n",
    "    <li>Relacioni operatori: $>\\ <=\\ ==\\ >=\\ >\\ !=$</li>\n",
    "</ul>"
   ]
  },
  {
   "cell_type": "markdown",
   "metadata": {},
   "source": [
    "### Znakovni nizovi (str)\n",
    "<ul>\n",
    "    <li>Tekstualni podaci: <b>\"Zdravo svete\" ili 'Zdravo svete'</b></li>\n",
    "    <li>Dozvoljeno je nadovezivanje <b>\"Šta\" + \"radiš\" = \"Šta radiš\"</b></li>\n",
    "    <li>Moguće je dohvatanje slova na poziciji $i$ (indeksirano od 0), ali ne i promena</li>\n",
    "</ul>"
   ]
  },
  {
   "cell_type": "markdown",
   "metadata": {},
   "source": [
    "### Prioriteti i smer grupisanja\n",
    "<ul>\n",
    "    <li>Zagrade, eksponenti, množenje i deljenje, sabiranje i oduzimanje</li>\n",
    "    <li>Grupisanje sa leva na desno sem eksponenta</li>\n",
    "    <li>$100/2*2 = (100/2)*2$</li>\n",
    "    <li>$2**2**3 = 2^{2^3}$</li>\n",
    "</ul>"
   ]
  },
  {
   "cell_type": "markdown",
   "metadata": {},
   "source": [
    "### Eksplicitna konverzija i funckija type\n",
    "<ul>\n",
    "    <li>tip(izraz)</li>\n",
    "    <li>int(2.7) = 2</li>\n",
    "    <li>float(3) = 3.0</li>\n",
    "    <li>str(35) = '35'</li>\n",
    "    <li>int(\" 28\") = 28</li>\n",
    "    <li>bool(\"True\") = True</li>\n",
    "    <li>bool(0) = False</li>\n",
    "    <li>bool(-5) = True</li>\n",
    "    <li>type(-5.2) = float</li>\n",
    "</ul>"
   ]
  },
  {
   "cell_type": "code",
   "execution_count": null,
   "metadata": {},
   "outputs": [],
   "source": []
  }
 ],
 "metadata": {
  "kernelspec": {
   "display_name": "Python 3",
   "language": "python",
   "name": "python3"
  },
  "language_info": {
   "codemirror_mode": {
    "name": "ipython",
    "version": 3
   },
   "file_extension": ".py",
   "mimetype": "text/x-python",
   "name": "python",
   "nbconvert_exporter": "python",
   "pygments_lexer": "ipython3",
   "version": "3.6.3"
  }
 },
 "nbformat": 4,
 "nbformat_minor": 2
}
