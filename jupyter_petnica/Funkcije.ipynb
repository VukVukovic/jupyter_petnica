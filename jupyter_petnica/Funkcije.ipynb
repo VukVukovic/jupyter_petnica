{
 "cells": [
  {
   "cell_type": "markdown",
   "metadata": {},
   "source": [
    "### Istraživačka stanica Petnica\n",
    "# Funkcije\n",
    "### Vuk Vuković, Andrej Jakovljević\n",
    "### 12.05.2018. "
   ]
  },
  {
   "cell_type": "markdown",
   "metadata": {},
   "source": [
    "### Šta su funkcije\n",
    "<ul>\n",
    "    <li>Funkcije za određene ulazne vrednosti vraćaju rezultate</li>\n",
    "    <li>Odvajanje koda u logične celine</li>\n",
    "    <li>Isti kod se ponavlja više puta uz male izmene => koristiti funkcije</li>\n",
    "    <li>Izračunavanje proseka, određivanje maksimuma...</li>\n",
    "</ul>"
   ]
  },
  {
   "cell_type": "markdown",
   "metadata": {},
   "source": [
    "### Definisanje funkcija\n",
    "<ul>\n",
    "    <li><b>def naziv(argument1, argument2, ...)</b>:\n",
    "        <div style=\"text-indent: 30px\">naredba1</div>\n",
    "        <div style=\"text-indent: 30px\">naredba2</div>\n",
    "        <div style=\"text-indent: 30px\">naredba3</div>\n",
    "        <div style=\"text-indent: 30px\"><b>return rezultat</b></div>\n",
    "    </li>\n",
    "    <li>Return nije obavezan</li>\n",
    "    <li>Sve nakon return se ne izvršava u funkciji</li>\n",
    "</ul>"
   ]
  },
  {
   "cell_type": "markdown",
   "metadata": {},
   "source": [
    "### Argumenti\n",
    "<ul>\n",
    "    <li>Broj argumenata funkcije je proizvoljan</li>\n",
    "    <li>Argumentima se može zadati podrazumevana vrednost</li>\n",
    "    <li>Naziv argumenata u funkciji i njenom pozivu ne mora se poklapati</li>\n",
    "    <li>Argumenti se moraju pozivati redosledom</li>\n",
    "    <li>Ukoliko se neki argumenti izostave, a nije jasno o kojim argumentima se radi, obavezno je imenovanje</li>\n",
    "</ul>"
   ]
  },
  {
   "cell_type": "code",
   "execution_count": null,
   "metadata": {},
   "outputs": [],
   "source": [
    "# Funkcija za pretvaranje sata, minuta, sekunde u sekunde"
   ]
  },
  {
   "cell_type": "code",
   "execution_count": null,
   "metadata": {},
   "outputs": [],
   "source": [
    "# Funkcija za resavanje linearne jednacine A, B"
   ]
  },
  {
   "cell_type": "markdown",
   "metadata": {},
   "source": [
    "### Lokalne i globalne promenljive\n",
    "<ul>\n",
    "    <li>Funkcije definisane u glavnom programu (van funkcija) su vidljive svima</li>\n",
    "    <li>Promeljive definisane unutar funkcjia su lokalne i vidljive samo funkcji</li>\n",
    "    <li>Prilikom poziva funkcije pravi se kopija primitivnog argumenta i čuva kao lokalna promenljiva</li>\n",
    "</ul>"
   ]
  },
  {
   "cell_type": "code",
   "execution_count": null,
   "metadata": {},
   "outputs": [],
   "source": []
  },
  {
   "cell_type": "markdown",
   "metadata": {},
   "source": [
    "### Rekurzivne funkcije\n",
    "<ul>\n",
    "    <li>Funkcie koje pozivaju same sebe</li>\n",
    "    <li>$5! = 5*4! = 5*4*3! = ... = 5*4*3*2*1 $</li>\n",
    "    <li>Potrebno je obezbediti izlaz iz rekurzije!</li>\n",
    "</ul>"
   ]
  },
  {
   "cell_type": "code",
   "execution_count": null,
   "metadata": {},
   "outputs": [],
   "source": [
    "# Napraviti funkciju koja za zadato n računa n!"
   ]
  }
 ],
 "metadata": {
  "kernelspec": {
   "display_name": "Python 3",
   "language": "python",
   "name": "python3"
  },
  "language_info": {
   "codemirror_mode": {
    "name": "ipython",
    "version": 3
   },
   "file_extension": ".py",
   "mimetype": "text/x-python",
   "name": "python",
   "nbconvert_exporter": "python",
   "pygments_lexer": "ipython3",
   "version": "3.6.3"
  }
 },
 "nbformat": 4,
 "nbformat_minor": 2
}
